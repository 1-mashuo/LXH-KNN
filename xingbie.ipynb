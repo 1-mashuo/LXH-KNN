{
 "cells": [
  {
   "cell_type": "code",
   "execution_count": 13,
   "id": "24f3f1b4",
   "metadata": {},
   "outputs": [
    {
     "name": "stdout",
     "output_type": "stream",
     "text": [
      "Accuracy: 90.98%\n"
     ]
    }
   ],
   "source": [
    "import numpy as np\n",
    "import pandas as pd\n",
    "from sklearn.neighbors import KNeighborsClassifier\n",
    "from sklearn.metrics import accuracy_score\n",
    "from sklearn.model_selection import train_test_split\n",
    "\n",
    "face_Xtrain = np.load('trainDistance.npy')    #128维人脸特征，训练集\n",
    "face_ytrain = np.load('DR_sex_map.npy')    #人脸训练集，性别标签，男1女0\n",
    "face_Xtest = np.load('testDistance.npy')    #128维人脸特征，测试集\n",
    "face_ytest = np.load('DS_sex_map.npy')    #人脸测试集标签，性别标签，男1女0\n",
    "\n",
    "# 构建KNN分类器\n",
    "knn = KNeighborsClassifier(n_neighbors=10)\n",
    "knn.fit(face_Xtrain, face_ytrain)\n",
    "\n",
    "# 预测\n",
    "y_pred = knn.predict(face_Xtest)\n",
    "\n",
    "# 评估准确度\n",
    "accuracy = accuracy_score(face_ytest, y_pred)\n",
    "print(\"Accuracy: {:.2f}%\".format(accuracy * 100))"
   ]
  },
  {
   "cell_type": "code",
   "execution_count": 11,
   "id": "acd7c6a7",
   "metadata": {},
   "outputs": [
    {
     "name": "stdout",
     "output_type": "stream",
     "text": [
      "Best parameter:  {'n_neighbors': 10}\n",
      "Accuracy: 90.98%\n"
     ]
    }
   ],
   "source": [
    "from sklearn.model_selection import GridSearchCV\n",
    "\n",
    "# 定义KNN分类器模型\n",
    "model = KNeighborsClassifier()\n",
    "\n",
    "# 设置参数范围\n",
    "param_grid = {'n_neighbors': list(range(1, 11))}\n",
    "\n",
    "# 使用5折交叉验证\n",
    "cv = 5\n",
    "\n",
    "# 构建网格搜索模型\n",
    "grid_search = GridSearchCV(model, param_grid=param_grid, cv=cv, scoring='accuracy')\n",
    "\n",
    "# 训练模型\n",
    "grid_search.fit(face_Xtrain, face_ytrain)\n",
    "\n",
    "# 获取最佳的参数值\n",
    "best_param = grid_search.best_params_\n",
    "\n",
    "# 打印最佳参数值\n",
    "print(\"Best parameter: \", best_param)\n",
    "\n",
    "# 获取最佳模型\n",
    "best_model = grid_search.best_estimator_\n",
    "\n",
    "# 预测\n",
    "y_pred = best_model.predict(face_Xtest)\n",
    "\n",
    "# 评估准确度\n",
    "accuracy = accuracy_score(face_ytest, y_pred)\n",
    "print(\"Accuracy: {:.2f}%\".format(accuracy * 100))"
   ]
  },
  {
   "cell_type": "code",
   "execution_count": null,
   "id": "aa932c7c",
   "metadata": {},
   "outputs": [],
   "source": []
  }
 ],
 "metadata": {
  "kernelspec": {
   "display_name": "Python 3 (ipykernel)",
   "language": "python",
   "name": "python3"
  },
  "language_info": {
   "codemirror_mode": {
    "name": "ipython",
    "version": 3
   },
   "file_extension": ".py",
   "mimetype": "text/x-python",
   "name": "python",
   "nbconvert_exporter": "python",
   "pygments_lexer": "ipython3",
   "version": "3.10.9"
  }
 },
 "nbformat": 4,
 "nbformat_minor": 5
}
